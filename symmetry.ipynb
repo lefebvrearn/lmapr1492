{
 "cells": [
  {
   "cell_type": "code",
   "execution_count": 54,
   "id": "loving-distribution",
   "metadata": {},
   "outputs": [],
   "source": [
    "from pymatgen import Structure\n",
    "from pymatgen.ext.matproj import MPRester\n",
    "from pymatgen.symmetry.analyzer import SpacegroupAnalyzer\n",
    "\n",
    "from jupyter_jsmol.pymatgen import quick_view\n",
    "from jupyter_jsmol import JsmolView"
   ]
  },
  {
   "cell_type": "code",
   "execution_count": 55,
   "id": "conceptual-retail",
   "metadata": {},
   "outputs": [],
   "source": [
    "with MPRester(\"u0QTXogbkTqal3Dr\") as m:\n",
    "    structure = m.get_structure_by_material_id(\"mp-13314\")"
   ]
  },
  {
   "cell_type": "markdown",
   "id": "completed-diagnosis",
   "metadata": {},
   "source": [
    "1. Opération d'inversion (centre atome n°1) sur un atome de Sc décrit par l'équation :\n",
    "$$\\begin{gather*}\n",
    "\\begin{pmatrix}\n",
    "-1 & 0 & 0 \\\\\n",
    "0 & -1 & 0 \\\\\n",
    "0 & 0 & -1\n",
    "\\end{pmatrix} \\quad\n",
    "\\begin{pmatrix}\n",
    "x \\\\\n",
    "y \\\\\n",
    "z\n",
    "\\end{pmatrix} = \\quad\n",
    "\\begin{pmatrix}\n",
    "-x \\\\\n",
    "-y \\\\\n",
    "-z\n",
    "\\end{pmatrix}\n",
    "\\end{gather*}$$\n",
    "Cette opération envoie l'atome n°1 vers l'atome n°6"
   ]
  },
  {
   "cell_type": "code",
   "execution_count": 56,
   "id": "senior-franklin",
   "metadata": {},
   "outputs": [
    {
     "data": {
      "application/vnd.jupyter.widget-view+json": {
       "model_id": "36b8d8822f214f7a95e4023393fa31b8",
       "version_major": 2,
       "version_minor": 0
      },
      "text/plain": [
       "JsmolView(layout=Layout(align_self='stretch', height='400px'))"
      ]
     },
     "metadata": {},
     "output_type": "display_data"
    }
   ],
   "source": [
    "view = JsmolView()\n",
    "display(view)\n",
    "view.load(\"ScTlTe2_mp-13314_symmetrized.cif\", '{1 1 1}')\n",
    "view.script(\"draw symop 2 {atomno=6}\")"
   ]
  },
  {
   "cell_type": "markdown",
   "id": "running-produce",
   "metadata": {},
   "source": [
    "2. Opération de translation sur un atome de Te décrite par :\n",
    "$$\\begin{gather*}\n",
    "\\begin{pmatrix}\n",
    "2/3 \\\\\n",
    "1/3 \\\\\n",
    "1/3\n",
    "\\end{pmatrix} + \\quad\n",
    "\\begin{pmatrix}\n",
    "x \\\\\n",
    "y \\\\\n",
    "z\n",
    "\\end{pmatrix} = \\quad\n",
    "\\begin{pmatrix}\n",
    "x+2/3 \\\\\n",
    "y+1/3 \\\\\n",
    "z+1/3\n",
    "\\end{pmatrix}\n",
    "\\end{gather*}$$\n",
    "Cette opération envoie l'atome n°3 vers l'atome n°8"
   ]
  },
  {
   "cell_type": "code",
   "execution_count": 57,
   "id": "effective-stuff",
   "metadata": {},
   "outputs": [
    {
     "data": {
      "application/vnd.jupyter.widget-view+json": {
       "model_id": "8af45505460947e3a3276442da948c7e",
       "version_major": 2,
       "version_minor": 0
      },
      "text/plain": [
       "JsmolView(layout=Layout(align_self='stretch', height='400px'))"
      ]
     },
     "metadata": {},
     "output_type": "display_data"
    }
   ],
   "source": [
    "view = JsmolView()\n",
    "display(view)\n",
    "view.load(\"ScTlTe2_mp-13314_symmetrized.cif\", '{1 1 1}')\n",
    "view.script(\"draw symop 13 {atomno=3}\")"
   ]
  },
  {
   "cell_type": "markdown",
   "id": "lyric-development",
   "metadata": {},
   "source": [
    "3. Opération de rotation sur un atome de Tl décrite par :\n",
    "$$\\begin{gather*}\n",
    "\\begin{pmatrix}\n",
    "0 & 1 & 0 \\\\\n",
    "1 & 0 & 0 \\\\\n",
    "0 & 0 & -1\n",
    "\\end{pmatrix} \\quad\n",
    "\\begin{pmatrix}\n",
    "x \\\\\n",
    "y \\\\\n",
    "z\n",
    "\\end{pmatrix} = \\quad\n",
    "\\begin{pmatrix}\n",
    "y \\\\\n",
    "x \\\\\n",
    "-z\n",
    "\\end{pmatrix}\n",
    "\\end{gather*}$$\n",
    "Cette opération envoie l'atome n°14 vers l'atome n°9"
   ]
  },
  {
   "cell_type": "code",
   "execution_count": 58,
   "id": "developmental-affiliation",
   "metadata": {},
   "outputs": [
    {
     "data": {
      "application/vnd.jupyter.widget-view+json": {
       "model_id": "6fe982cdb18749dea91833ad8373dbbd",
       "version_major": 2,
       "version_minor": 0
      },
      "text/plain": [
       "JsmolView(layout=Layout(align_self='stretch', height='400px'))"
      ]
     },
     "metadata": {},
     "output_type": "display_data"
    }
   ],
   "source": [
    "view = JsmolView()\n",
    "display(view)\n",
    "view.load(\"ScTlTe2_mp-13314_symmetrized.cif\", '{1 1 1}')\n",
    "view.script(\"draw symop 7 {atomno=14}\")"
   ]
  },
  {
   "cell_type": "code",
   "execution_count": null,
   "id": "civil-senegal",
   "metadata": {},
   "outputs": [],
   "source": []
  }
 ],
 "metadata": {
  "kernelspec": {
   "display_name": "Python 3",
   "language": "python",
   "name": "python3"
  },
  "language_info": {
   "codemirror_mode": {
    "name": "ipython",
    "version": 3
   },
   "file_extension": ".py",
   "mimetype": "text/x-python",
   "name": "python",
   "nbconvert_exporter": "python",
   "pygments_lexer": "ipython3",
   "version": "3.6.8"
  }
 },
 "nbformat": 4,
 "nbformat_minor": 5
}
