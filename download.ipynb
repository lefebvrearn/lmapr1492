{
 "cells": [
  {
   "cell_type": "code",
   "execution_count": 1,
   "id": "metropolitan-european",
   "metadata": {},
   "outputs": [],
   "source": [
    "from pymatgen.ext.matproj import MPRester\n",
    "from pymatgen.io.cif import CifWriter"
   ]
  },
  {
   "cell_type": "code",
   "execution_count": 2,
   "id": "extreme-antenna",
   "metadata": {},
   "outputs": [],
   "source": [
    "with MPRester(\"u0QTXogbkTqal3Dr\") as m:\n",
    "    structure = m.get_structure_by_material_id(\"mp-13314\")"
   ]
  },
  {
   "cell_type": "code",
   "execution_count": 3,
   "id": "expanded-payment",
   "metadata": {},
   "outputs": [],
   "source": [
    "w = CifWriter(structure)\n",
    "w.write_file(\"structure.cif\")"
   ]
  },
  {
   "cell_type": "code",
   "execution_count": null,
   "id": "seeing-intervention",
   "metadata": {},
   "outputs": [],
   "source": []
  },
  {
   "cell_type": "code",
   "execution_count": null,
   "id": "clear-information",
   "metadata": {},
   "outputs": [],
   "source": []
  }
 ],
 "metadata": {
  "kernelspec": {
   "display_name": "Python 3",
   "language": "python",
   "name": "python3"
  },
  "language_info": {
   "codemirror_mode": {
    "name": "ipython",
    "version": 3
   },
   "file_extension": ".py",
   "mimetype": "text/x-python",
   "name": "python",
   "nbconvert_exporter": "python",
   "pygments_lexer": "ipython3",
   "version": "3.6.8"
  }
 },
 "nbformat": 4,
 "nbformat_minor": 5
}
