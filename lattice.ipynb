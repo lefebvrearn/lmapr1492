{
 "cells": [
  {
   "cell_type": "code",
   "execution_count": 15,
   "id": "reverse-vault",
   "metadata": {},
   "outputs": [],
   "source": [
    "from pymatgen.ext.matproj import MPRester\n",
    "from pymatgen import Lattice, Structure, Molecule\n",
    "from pymatgen.symmetry.analyzer import SpacegroupAnalyzer\n",
    "import numpy as np"
   ]
  },
  {
   "cell_type": "code",
   "execution_count": 16,
   "id": "isolated-success",
   "metadata": {},
   "outputs": [],
   "source": [
    "with MPRester(\"u0QTXogbkTqal3Dr\") as m:\n",
    "    structure = m.get_structure_by_material_id(\"mp-13314\")"
   ]
  },
  {
   "cell_type": "code",
   "execution_count": 17,
   "id": "occupied-jacob",
   "metadata": {},
   "outputs": [
    {
     "name": "stdout",
     "output_type": "stream",
     "text": [
      "Les vecteurs de base du réseau direct sont : a = 8.508319376970519 Å, b = 8.508319376970519 Å, c = 8.508318841450407 Å \n",
      "\n",
      "Les vecteurs de base du réseau réciproque sont : a* = 1.7183986963510496 Å^(-1), b = 1.7183986963510496 Å^(-1), c = 1.718399074498481 Å^(-1) \n",
      "\n"
     ]
    }
   ],
   "source": [
    "BaseVector = [structure.lattice.a, structure.lattice.b, structure.lattice.c]\n",
    "print('Les vecteurs de base du réseau direct sont : a = {} Å, b = {} Å, c = {} Å \\n'.format(BaseVector[0], BaseVector[1], BaseVector[2]))\n",
    "ReciprocalVector = [structure.lattice.reciprocal_lattice.a, structure.lattice.reciprocal_lattice.b, structure.lattice.reciprocal_lattice.c]\n",
    "print('Les vecteurs de base du réseau réciproque sont : a* = {} Å^(-1), b = {} Å^(-1), c = {} Å^(-1) \\n'.format(ReciprocalVector[0], ReciprocalVector[1], ReciprocalVector[2]))\n"
   ]
  },
  {
   "cell_type": "code",
   "execution_count": 18,
   "id": "powerful-chemical",
   "metadata": {},
   "outputs": [
    {
     "name": "stdout",
     "output_type": "stream",
     "text": [
      "Le type de maille du ScTlTe2 est :  rhombohedral  \n",
      "\n"
     ]
    }
   ],
   "source": [
    "Analyzer = SpacegroupAnalyzer(structure)\n",
    "MeshType = Analyzer.get_lattice_type()\n",
    "print('Le type de maille du ScTlTe2 est : ', MeshType, ' \\n')"
   ]
  },
  {
   "cell_type": "code",
   "execution_count": 19,
   "id": "governmental-married",
   "metadata": {},
   "outputs": [
    {
     "name": "stdout",
     "output_type": "stream",
     "text": [
      "Le système cristallin du ScTlTe2 est :  trigonal  \n",
      "\n"
     ]
    }
   ],
   "source": [
    "CrystalSystem = Analyzer.get_crystal_system()\n",
    "print('Le système cristallin du ScTlTe2 est : ', CrystalSystem, ' \\n')"
   ]
  },
  {
   "cell_type": "code",
   "execution_count": 20,
   "id": "duplicate-method",
   "metadata": {},
   "outputs": [
    {
     "name": "stdout",
     "output_type": "stream",
     "text": [
      "Le système cristallin du ScTlTe2 est :  -3m  \n",
      "\n"
     ]
    }
   ],
   "source": [
    "PonctualGroup = Analyzer.get_point_group_symbol()\n",
    "print('Le système cristallin du ScTlTe2 est : ', PonctualGroup, ' \\n')"
   ]
  },
  {
   "cell_type": "code",
   "execution_count": null,
   "id": "differential-soviet",
   "metadata": {},
   "outputs": [],
   "source": []
  }
 ],
 "metadata": {
  "kernelspec": {
   "display_name": "Python 3",
   "language": "python",
   "name": "python3"
  },
  "language_info": {
   "codemirror_mode": {
    "name": "ipython",
    "version": 3
   },
   "file_extension": ".py",
   "mimetype": "text/x-python",
   "name": "python",
   "nbconvert_exporter": "python",
   "pygments_lexer": "ipython3",
   "version": "3.6.8"
  }
 },
 "nbformat": 4,
 "nbformat_minor": 5
}
